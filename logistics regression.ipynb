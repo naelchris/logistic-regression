{
 "cells": [
  {
   "cell_type": "code",
   "execution_count": 1,
   "metadata": {},
   "outputs": [],
   "source": [
    "import numpy as np\n",
    "import h5py \n",
    "import matplotlib.pyplot as plt\n",
    "import scipy\n",
    "from PIL import Image\n",
    "from scipy import ndimage\n",
    "\n",
    "%matplotlib inline"
   ]
  },
  {
   "cell_type": "code",
   "execution_count": 2,
   "metadata": {},
   "outputs": [],
   "source": [
    "def load_data():\n",
    "  train_dataset = h5py.File('database/train_catvnoncat.h5','r')\n",
    "  train_set_x_orig = np.array(train_dataset['train_set_x'][:])\n",
    "  train_set_y_orig = np.array(train_dataset['train_set_y'][:])\n",
    "\n",
    "  test_dataset = h5py.File('database/test_catvnoncat.h5','r')\n",
    "  test_set_x_orig = np.array(test_dataset['test_set_x'][:])\n",
    "  test_set_y_orig = np.array(test_dataset['test_set_y'][:])\n",
    "\n",
    "  classes = np.array(test_dataset['list_classes'][:])\n",
    "  train_set_y_orig = train_set_y_orig.reshape((1,train_set_y_orig.shape[0]))\n",
    "  test_set_y_orig = test_set_y_orig.reshape((1,test_set_y_orig.shape[0]))\n",
    "\n",
    "  return train_set_x_orig, train_set_y_orig, test_set_x_orig, test_set_y_orig, classes"
   ]
  },
  {
   "cell_type": "code",
   "execution_count": 3,
   "metadata": {},
   "outputs": [
    {
     "data": {
      "text/plain": [
       "'cat'"
      ]
     },
     "execution_count": 3,
     "metadata": {},
     "output_type": "execute_result"
    }
   ],
   "source": [
    "##load data cat dan non cat\n",
    "train_set_x_orig, train_set_y, test_set_x_orig, test_set_y, classes = load_data()\n",
    "classes[np.squeeze(train_set_y[:, 25])].decode(\"utf-8\")"
   ]
  },
  {
   "cell_type": "code",
   "execution_count": 4,
   "metadata": {},
   "outputs": [
    {
     "name": "stdout",
     "output_type": "stream",
     "text": [
      "y = [1], cat\n"
     ]
    },
    {
     "data": {
      "image/png": "[encoded data removed]",
      "text/plain": [
       "<Figure size 432x288 with 1 Axes>"
      ]
     },
     "metadata": {
      "needs_background": "light"
     },
     "output_type": "display_data"
    }
   ],
   "source": [
    "#sample pic\n",
    "index = 2\n",
    "plt.imshow(train_set_x_orig[index])\n",
    "print(\"y = \" +str(train_set_y[:,index]) +\", \"+classes[np.squeeze(train_set_y[:,index])].decode(\"utf-8\"))"
   ]
  },
  {
   "cell_type": "code",
   "execution_count": 5,
   "metadata": {},
   "outputs": [
    {
     "name": "stdout",
     "output_type": "stream",
     "text": [
      "total training example : m_train 209\n",
      "total test example : m_test 50\n",
      "height and width of each image : num_px 64\n",
      "train_set_x_orig shape : (209, 64, 64, 3)\n",
      "train_set_y label shape row vector : (1, 209)\n",
      "test_set_x_orig shape : (50, 64, 64, 3)\n",
      "test_set_y label shape row vector : (1, 50)\n"
     ]
    }
   ],
   "source": [
    "#train_set_x_orig (numberofpic,pix,pix,3 (rgb))\n",
    "m_train = train_set_x_orig.shape[0] #number of traning \n",
    "m_test = test_set_x_orig.shape[0] #n of test\n",
    "num_px = train_set_x_orig.shape[1]\n",
    "\n",
    "print(\"total training example : m_train \"+str(m_train))\n",
    "print(\"total test example : m_test \"+str(m_test))\n",
    "print(\"height and width of each image : num_px \"+str(num_px))\n",
    "print(\"train_set_x_orig shape : \"+str(train_set_x_orig.shape))\n",
    "print(\"train_set_y label shape row vector : \"+ str(train_set_y.shape))\n",
    "print(\"test_set_x_orig shape : \"+str(test_set_x_orig.shape))\n",
    "print(\"test_set_y label shape row vector : \"+ str(test_set_y.shape))\n"
   ]
  },
  {
   "cell_type": "code",
   "execution_count": 6,
   "metadata": {},
   "outputs": [
    {
     "name": "stdout",
     "output_type": "stream",
     "text": [
      "train_set_x_flatten shape : (12288, 209)\n",
      "train_set_y label shape row vector : (1, 209)\n",
      "test_set_x_flatten shape : (12288, 50)\n",
      "test_set_y label shape row vector : (1, 50)\n",
      "[[ 17 196  82 ... 143  22   8]\n",
      " [ 31 192  71 ... 155  24  28]\n",
      " [ 56 190  68 ... 165  23  53]\n",
      " ...\n",
      " [  0  82 138 ...  85   4   0]\n",
      " [  0  80 141 ... 107   5   0]\n",
      " [  0  81 142 ... 149   0   0]]\n",
      "\n",
      "\n",
      "(64, 64, 3) : shape dari satu gambar dengan ukuran 64*64 sebanyak 3 kali (red, green, blue) \n"
     ]
    }
   ],
   "source": [
    "#flattened image to column vector \n",
    "train_set_x_flatten = train_set_x_orig.reshape(train_set_x_orig.shape[0],-1).T\n",
    "test_set_x_flatten = test_set_x_orig.reshape(test_set_x_orig.shape[0],-1).T\n",
    "\n",
    "print(\"train_set_x_flatten shape : \"+ str(train_set_x_flatten.shape))\n",
    "print(\"train_set_y label shape row vector : \"+ str(train_set_y.shape))\n",
    "print(\"test_set_x_flatten shape : \"+ str(test_set_x_flatten.shape))\n",
    "print(\"test_set_y label shape row vector : \"+ str(test_set_y.shape))\n",
    "print(train_set_x_flatten)\n",
    "\n",
    "#bisa di lihat dibawah 17,31,56,.. itu merupakan nilai rbg yang di urutkan secara vertikal sehingga setiapa kolom pada matrix merepresentasikan gambar yang berbeda.\n",
    "#pada dasarnya flaattening bertujuna agar sebuah gambar dengan matrix ( num_px, num_px, 3) mejadi (numpx*numpx*3,1) mejadi column vector\n",
    "#(a,b,c,d) agar menjadi column vector maka (b*c*d,a), a adalah total sample gambar in this case.\n",
    "\n",
    "print(\"\\n\")\n",
    "print(str(train_set_x_orig[0].shape)+\" : shape dari satu gambar dengan ukuran 64*64 sebanyak 3 kali (red, green, blue) \")"
   ]
  },
  {
   "cell_type": "code",
   "execution_count": 7,
   "metadata": {},
   "outputs": [],
   "source": [
    "#preprocessing\n",
    "train_set_x = train_set_x_flatten/255\n",
    "test_set_x = test_set_x_flatten/255"
   ]
  },
  {
   "cell_type": "code",
   "execution_count": 8,
   "metadata": {},
   "outputs": [],
   "source": [
    "#sigmoid function\n",
    "def sigmoid(z):\n",
    "    s = 1/(1+np.exp(-z))\n",
    "    return s"
   ]
  },
  {
   "cell_type": "code",
   "execution_count": 9,
   "metadata": {},
   "outputs": [],
   "source": [
    "#step dalam membuat neural network :\n",
    "#1. menentukan model (input features)\n",
    "#2. init model parameter\n",
    "#3. loop(loss, gradient) -> update gradient"
   ]
  },
  {
   "cell_type": "code",
   "execution_count": 10,
   "metadata": {},
   "outputs": [
    {
     "name": "stdout",
     "output_type": "stream",
     "text": [
      "sigmoid([0,2]) : [0.5        0.88079708]\n"
     ]
    }
   ],
   "source": [
    "print(\"sigmoid([0,2]) : \"+ str(sigmoid(np.array([0,2]))))"
   ]
  },
  {
   "cell_type": "code",
   "execution_count": 11,
   "metadata": {},
   "outputs": [],
   "source": [
    "def init_zero(x):\n",
    "    w = np.zeros((x,1))\n",
    "    b = 0\n",
    "    assert(isinstance(b,float) or isinstance(b,int))\n",
    "    \n",
    "    assert(w.shape == (x,1))\n",
    "    return w,b"
   ]
  },
  {
   "cell_type": "code",
   "execution_count": 12,
   "metadata": {},
   "outputs": [],
   "source": [
    "#forward and backward propagation \n",
    "\n",
    "def propagate(w,b,X,Y):\n",
    "    \"\"\"\n",
    "    w - weights, numpy array with the size of (numpx*numpx*3,1)\n",
    "    b - bias, scalar\n",
    "    X - data (num_px*numpx*3, m)\n",
    "    Y - label (1, m)\n",
    "    \"\"\"\n",
    "    m = X.shape[1]\n",
    "    #sigmoid,cost -- forward\n",
    "    A = sigmoid(np.dot(w.T,X)+b)\n",
    "    cost = np.sum(Y*np.log(A)+(1-Y)*np.log(1-A))*(-1/m)\n",
    "    \n",
    "    #gradient -- backward\n",
    "    dw = (1/m)*np.dot(X,(A-Y).T)\n",
    "    db = (1/m)*(np.sum(A-Y))\n",
    "    \n",
    "    assert(dw.shape == w.shape)\n",
    "    assert(db.dtype == float)\n",
    "    \n",
    "    cost = np.squeeze(cost)\n",
    "    assert(cost.shape == ())\n",
    "    grads = {\n",
    "        \"dw\" :dw,\n",
    "        \"db\" : db\n",
    "    }\n",
    "    return grads, cost"
   ]
  },
  {
   "cell_type": "code",
   "execution_count": 13,
   "metadata": {},
   "outputs": [
    {
     "name": "stdout",
     "output_type": "stream",
     "text": [
      "dw = [[0.99845601]\n",
      " [2.39507239]]\n",
      "db = 0.001455578136784208\n",
      "cost = 5.801545319394553\n"
     ]
    }
   ],
   "source": [
    "w, b, X, Y = np.array([[1.],[2.]]), 2., np.array([[1.,2.,-1.],[3.,4.,-3.2]]), np.array([[1,0,1]])\n",
    "grads, cost = propagate(w, b, X, Y)\n",
    "print (\"dw = \" + str(grads[\"dw\"]))\n",
    "print (\"db = \" + str(grads[\"db\"]))\n",
    "print (\"cost = \" + str(cost))"
   ]
  },
  {
   "cell_type": "code",
   "execution_count": 14,
   "metadata": {},
   "outputs": [],
   "source": [
    "#we get the cost and the gradient now we optimize it\n",
    "def optimize(w,b,X,Y,num_iterations,learning_rate,print_cost =False):\n",
    "    \"\"\"\n",
    "    This function optimizes w and b by running a gradient descent algorithm\n",
    "    \n",
    "    Arguments:\n",
    "    w -- weights, a numpy array of size (num_px * num_px * 3, 1)\n",
    "    b -- bias, a scalar\n",
    "    X -- data of shape (num_px * num_px * 3, number of examples)\n",
    "    Y -- true \"label\" vector (containing 0 if non-cat, 1 if cat), of shape (1, number of examples)\n",
    "    num_iterations -- number of iterations of the optimization loop\n",
    "    learning_rate -- learning rate of the gradient descent update rule\n",
    "    print_cost -- True to print the loss every 100 steps\n",
    "    \n",
    "    Returns:\n",
    "    params -- dictionary containing the weights w and bias b\n",
    "    grads -- dictionary containing the gradients of the weights and bias with respect to the cost function\n",
    "    costs -- list of all the costs computed during the optimization, this will be used to plot the learning curve.\n",
    "    \n",
    "    Tips:\n",
    "    You basically need to write down two steps and iterate through them:\n",
    "        1) Calculate the cost and the gradient for the current parameters. Use propagate().\n",
    "        2) Update the parameters using gradient descent rule for w and b.\n",
    "    \"\"\"\n",
    "    costs =[]\n",
    "    for i in range(num_iterations):\n",
    "        grads, cost = propagate(w,b,X,Y)\n",
    "        \n",
    "        #ambil gradien\n",
    "        dw = grads['dw']\n",
    "        db = grads['db']\n",
    "        \n",
    "        #w = w - learningrate*dw\n",
    "        #b = b - learningrate*db\n",
    "        \n",
    "        w = w - (learning_rate*dw)\n",
    "        b = b - (learning_rate*db)\n",
    "        \n",
    "        if i % 100 == 0 :\n",
    "            costs.append(cost)\n",
    "        \n",
    "        # Print the cost every 100 training iterations\n",
    "        if print_cost and i % 100 == 0:\n",
    "            print (\"Cost after iteration %i: %f\" %(i, cost))\n",
    "            \n",
    "    params = {\"w\":w,\"b\":b}\n",
    "    grads = {\"dw\":w,\"db\":db}\n",
    "    \n",
    "    return params, grads, costs\n",
    "        \n",
    "    "
   ]
  },
  {
   "cell_type": "code",
   "execution_count": 15,
   "metadata": {},
   "outputs": [
    {
     "name": "stdout",
     "output_type": "stream",
     "text": [
      "w = [[0.19033591]\n",
      " [0.12259159]]\n",
      "b = 1.9253598300845747\n",
      "dw = [[0.19033591]\n",
      " [0.12259159]]\n",
      "db = 0.21919450454067657\n"
     ]
    }
   ],
   "source": [
    "params, grads, costs = optimize(w, b, X, Y, num_iterations= 100, learning_rate = 0.009, print_cost = False)\n",
    "\n",
    "print (\"w = \" + str(params[\"w\"]))\n",
    "print (\"b = \" + str(params[\"b\"]))\n",
    "print (\"dw = \" + str(grads[\"dw\"]))\n",
    "print (\"db = \" + str(grads[\"db\"]))"
   ]
  },
  {
   "cell_type": "code",
   "execution_count": 16,
   "metadata": {},
   "outputs": [],
   "source": [
    "def predict(w,b,X):\n",
    "    m = X.shape[1]\n",
    "    Y_prediction = np.zeros((1,m))\n",
    "    w = w.reshape(X.shape[0],1)\n",
    "    \n",
    "    A = sigmoid(np.dot(w.T,X)+b)\n",
    "    for i in range(m):\n",
    "        if(A[0,i] > 0.5):\n",
    "            Y_prediction[0,i] = 1\n",
    "        elif(A[0,i] <= 0.5 ):\n",
    "            Y_prediction[0,i] = 0\n",
    "    assert(Y_prediction.shape == (1,m))\n",
    "    return Y_prediction"
   ]
  },
  {
   "cell_type": "code",
   "execution_count": 17,
   "metadata": {},
   "outputs": [
    {
     "name": "stdout",
     "output_type": "stream",
     "text": [
      "predictions = [[1. 1. 0.]]\n"
     ]
    }
   ],
   "source": [
    "w = np.array([[0.1124579],[0.23106775]])\n",
    "b = -0.3\n",
    "X = np.array([[1.,-1.1,-3.2],[1.2,2.,0.1]])\n",
    "print (\"predictions = \" + str(predict(w, b, X)))"
   ]
  },
  {
   "cell_type": "code",
   "execution_count": 18,
   "metadata": {},
   "outputs": [],
   "source": [
    "#model\n",
    "def model(train_x,train_y, test_x,test_y,num_iteration = 2000, learning_rate = 0.5, print_cost=False):\n",
    "    w,b = init_zero(train_x.shape[0])\n",
    "    parameters, grads, costs = optimize(w,b,train_x,train_y,num_iteration,learning_rate,print_cost=False)\n",
    "    \n",
    "    w = parameters['w']\n",
    "    b = parameters['b']\n",
    "    \n",
    "    Y_prediction_test = predict(w,b,test_x)\n",
    "    Y_prediction_train = predict(w,b,train_x)\n",
    "    \n",
    "    print(\"train accuracy: {} %\".format(100 - np.mean(np.abs(Y_prediction_train - train_y)) * 100))\n",
    "    print(\"test accuracy: {} %\".format(100 - np.mean(np.abs(Y_prediction_test - test_y)) * 100))\n",
    "    \n",
    "    d = {\"costs\": costs,\n",
    "         \"Y_prediction_test\": Y_prediction_test, \n",
    "         \"Y_prediction_train\" : Y_prediction_train, \n",
    "         \"w\" : w, \n",
    "         \"b\" : b,\n",
    "         \"learning_rate\" : learning_rate,\n",
    "         \"num_iterations\": num_iteration}\n",
    "    return d\n",
    "\n",
    "    "
   ]
  },
  {
   "cell_type": "code",
   "execution_count": 19,
   "metadata": {},
   "outputs": [
    {
     "name": "stdout",
     "output_type": "stream",
     "text": [
      "train accuracy: 99.04306220095694 %\n",
      "test accuracy: 70.0 %\n"
     ]
    }
   ],
   "source": [
    "d = model(train_set_x, train_set_y, test_set_x, test_set_y, num_iteration = 2000, learning_rate = 0.005, print_cost = True)"
   ]
  },
  {
   "cell_type": "code",
   "execution_count": 36,
   "metadata": {},
   "outputs": [
    {
     "name": "stdout",
     "output_type": "stream",
     "text": [
      "(12288, 50)\n",
      "y = 0, you predicted that it is a \"non-cat\" picture.\n"
     ]
    },
    {
     "data": {
      "image/png": "[encoded data removed]",
      "text/plain": [
       "<Figure size 432x288 with 1 Axes>"
      ]
     },
     "metadata": {
      "needs_background": "light"
     },
     "output_type": "display_data"
    }
   ],
   "source": [
    "# Example of a picture that was wrongly classified.\n",
    "index = 1\n",
    "plt.imshow(train_set_x[:,index].reshape((num_px, num_px, 3)))\n",
    "print(test_set_x.shape)\n",
    "print (\"y = \" + str(train_set_y[0,index]) + \", you predicted that it is a \\\"\" + classes[int(d[\"Y_prediction_train\"][0,index]),].decode(\"utf-8\") +  \"\\\" picture.\")"
   ]
  },
  {
   "cell_type": "code",
   "execution_count": null,
   "metadata": {},
   "outputs": [],
   "source": []
  }
 ],
 "metadata": {
  "kernelspec": {
   "display_name": "Python 3",
   "language": "python",
   "name": "python3"
  },
  "language_info": {
   "codemirror_mode": {
    "name": "ipython",
    "version": 3
   },
   "file_extension": ".py",
   "mimetype": "text/x-python",
   "name": "python",
   "nbconvert_exporter": "python",
   "pygments_lexer": "ipython3",
   "version": "3.7.7"
  }
 },
 "nbformat": 4,
 "nbformat_minor": 4
}
